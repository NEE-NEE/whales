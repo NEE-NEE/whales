{
 "cells": [
  {
   "cell_type": "code",
   "execution_count": null,
   "metadata": {},
   "outputs": [],
   "source": [
    "#copied from https://www.kaggle.com/shivamb/in-depth-analysis-visualisations-avito\n",
    "\n",
    "# date time features\n",
    "train_df['weekday'] = train_df.activation_date.dt.weekday\n",
    "train_df['month'] = train_df.activation_date.dt.month\n",
    "train_df['day'] = train_df.activation_date.dt.day\n",
    "train_df['week'] = train_df.activation_date.dt.week \n",
    "\n",
    "# length of description\n",
    "train_df['description'] = train_df['description'].fillna(\" \")\n",
    "train_df['description_len'] = train_df['description'].apply(lambda x : len(x.split()))\n",
    "\n",
    "# length of title\n",
    "train_df['title'] = train_df['title'].fillna(\" \")\n",
    "train_df['title_len'] = train_df['title'].apply(lambda x : len(x.split()))\n",
    "\n",
    "# param_combined and its length\n",
    "train_df['param_combined'] = train_df.apply(lambda row: ' '.join([str(row['param_1']), str(row['param_2']),  str(row['param_3'])]), axis=1)\n",
    "train_df['param_combined'] = train_df['param_combined'].fillna(\" \")\n",
    "train_df['param_combined_len'] = train_df['param_combined'].apply(lambda x : len(x.split()))\n",
    "\n",
    "# charater len of text columns\n",
    "train_df['description_char'] = train_df['description'].apply(len)\n",
    "train_df['title_char'] = train_df['title'].apply(len)\n",
    "train_df['param_char'] = train_df['param_combined'].apply(len)\n",
    "\n",
    "# total period for which ads were run \n",
    "pr_train['total_period'] = pr_train['date_to'] - pr_train['date_from']\n",
    "\n",
    "# english mapped of weekday\n",
    "daymap = {0:'Sun', 1:'Mon', 2:'Tue', 3:'Wed', 4:'Thu', 5:'Fri', 6:'Sat'}\n",
    "train_df['weekday_en'] = train_df['weekday'].apply(lambda x : daymap[x])\n",
    "\n",
    "# bins of deal probability\n",
    "interval = (-0.99, .10, .20, .30, .40, .50, .60, .70, .80, .90, 1.1)\n",
    "cats = ['0-0.1', '0.1-0.2', '0.2-0.3', '0.3-0.4', '0.4-0.5', '0.5-0.6', '0.6-0.7', '0.7-0.8', '0.8-0.9','0.9-1.0']\n",
    "train_df['deal_class'] = train_df['deal_probability'].apply(lambda x: \">=0.5\" if x >=0.5 else \"<0.5\")\n",
    "train_df[\"deal_class_2\"] = pd.cut(train_df.deal_probability, interval, labels=cats)"
   ]
  }
 ],
 "metadata": {
  "kernelspec": {
   "display_name": "Python 3",
   "language": "python",
   "name": "python3"
  },
  "language_info": {
   "codemirror_mode": {
    "name": "ipython",
    "version": 3
   },
   "file_extension": ".py",
   "mimetype": "text/x-python",
   "name": "python",
   "nbconvert_exporter": "python",
   "pygments_lexer": "ipython3",
   "version": "3.6.6"
  }
 },
 "nbformat": 4,
 "nbformat_minor": 2
}
